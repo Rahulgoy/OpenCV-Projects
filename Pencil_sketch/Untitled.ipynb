{
 "cells": [
  {
   "cell_type": "code",
   "execution_count": 27,
   "metadata": {},
   "outputs": [
    {
     "ename": "SyntaxError",
     "evalue": "'break' outside loop (<ipython-input-27-12ae9418bba9>, line 32)",
     "output_type": "error",
     "traceback": [
      "\u001b[0;36m  File \u001b[0;32m\"<ipython-input-27-12ae9418bba9>\"\u001b[0;36m, line \u001b[0;32m32\u001b[0m\n\u001b[0;31m    break\u001b[0m\n\u001b[0m    ^\u001b[0m\n\u001b[0;31mSyntaxError\u001b[0m\u001b[0;31m:\u001b[0m 'break' outside loop\n"
     ]
    }
   ],
   "source": [
    "import cv2\n",
    "import numpy as np\n",
    "import matplotlib.pyplot as plt\n",
    "%matplotlib inline\n",
    "import matplotlib.image as mpimg\n",
    "\n",
    "image = cv2.imread('image.jpg')\n",
    "#plt.imshow(img)\n",
    "\n",
    "conversion_pct = 0.20\n",
    "height = int(conversion_pct*img.shape[0])\n",
    "width = int(conversion_pct*img.shape[1])\n",
    "dim = (width, height)\n",
    "img_resized = cv2.resize(img, dim, interpolation=cv2.INTER_AREA)\n",
    "\n",
    "gray = cv2.cvtColor(img_resized, cv2.COLOR_BGR2GRAY)\n",
    "hsv = cv2.cvtColor(img_resized, cv2.COLOR_BGR2HSV)\n",
    "\n",
    "inv = 255-gray \n",
    "gauss = cv2.GaussianBlur(inv,ksize=(15,15),sigmaX=0,sigmaY=0)\n",
    "\n",
    "pencil = cv2.divide(gray,255-gauss,scale=256)\n",
    "\n",
    "\n",
    "cv2.imshow('resized', img_resized)\n",
    "cv2.imshow('gray', gray)\n",
    "cv2.imshow('hsv', hsv)\n",
    "cv2.imshow('pencil', pencil)\n",
    "\n",
    "k= cv2.waitKey(3)& 0xff\n",
    "if k==27:\n",
    "    break\n",
    "    \n",
    "cv2.destroyAllWindows()\n"
   ]
  },
  {
   "cell_type": "code",
   "execution_count": 17,
   "metadata": {},
   "outputs": [],
   "source": [
    "import cv2\n",
    "\n",
    "image = cv2.imread('image.jpg',cv2.IMREAD_GRAYSCALE)\n",
    "\n",
    "cv2.imshow('img',image)\n",
    "cv2.waitKey(5)\n",
    "cv2.destroyAllWindows()"
   ]
  },
  {
   "cell_type": "code",
   "execution_count": null,
   "metadata": {},
   "outputs": [],
   "source": []
  }
 ],
 "metadata": {
  "kernelspec": {
   "display_name": "Python 3",
   "language": "python",
   "name": "python3"
  },
  "language_info": {
   "codemirror_mode": {
    "name": "ipython",
    "version": 3
   },
   "file_extension": ".py",
   "mimetype": "text/x-python",
   "name": "python",
   "nbconvert_exporter": "python",
   "pygments_lexer": "ipython3",
   "version": "3.8.2"
  }
 },
 "nbformat": 4,
 "nbformat_minor": 4
}
